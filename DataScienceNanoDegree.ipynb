{
 "cells": [
  {
   "cell_type": "code",
   "execution_count": 154,
   "id": "50b6e747",
   "metadata": {},
   "outputs": [],
   "source": [
    "import numpy as np\n",
    "import pandas as pd\n",
    "import matplotlib.pyplot as plt\n",
    "import seaborn as sns\n",
    "%matplotlib inline"
   ]
  },
  {
   "cell_type": "markdown",
   "id": "7301f283",
   "metadata": {},
   "source": [
    "# Analysis For Airbnb Data"
   ]
  },
  {
   "cell_type": "code",
   "execution_count": 155,
   "id": "e9a78ded",
   "metadata": {},
   "outputs": [],
   "source": [
    "dfCalendar = pd.read_csv('/Users/alex/Downloads/archive/calendar.csv')\n",
    "dfListings = pd.read_csv('/Users/alex/Downloads/archive/listings.csv')\n",
    "dfReviews = pd.read_csv('/Users/alex/Downloads/archive/reviews.csv')"
   ]
  },
  {
   "cell_type": "markdown",
   "id": "c488abcb",
   "metadata": {},
   "source": [
    "## Part 1 Lets expore and see the info of our data"
   ]
  },
  {
   "cell_type": "code",
   "execution_count": 156,
   "id": "037e940e",
   "metadata": {},
   "outputs": [
    {
     "name": "stdout",
     "output_type": "stream",
     "text": [
      "<class 'pandas.core.frame.DataFrame'>\n",
      "RangeIndex: 1308890 entries, 0 to 1308889\n",
      "Data columns (total 4 columns):\n",
      " #   Column      Non-Null Count    Dtype \n",
      "---  ------      --------------    ----- \n",
      " 0   listing_id  1308890 non-null  int64 \n",
      " 1   date        1308890 non-null  object\n",
      " 2   available   1308890 non-null  object\n",
      " 3   price       643037 non-null   object\n",
      "dtypes: int64(1), object(3)\n",
      "memory usage: 39.9+ MB\n"
     ]
    }
   ],
   "source": [
    "dfCalendar.info()"
   ]
  },
  {
   "cell_type": "code",
   "execution_count": 157,
   "id": "0b62bccb",
   "metadata": {},
   "outputs": [
    {
     "name": "stdout",
     "output_type": "stream",
     "text": [
      "<class 'pandas.core.frame.DataFrame'>\n",
      "RangeIndex: 68275 entries, 0 to 68274\n",
      "Data columns (total 6 columns):\n",
      " #   Column         Non-Null Count  Dtype \n",
      "---  ------         --------------  ----- \n",
      " 0   listing_id     68275 non-null  int64 \n",
      " 1   id             68275 non-null  int64 \n",
      " 2   date           68275 non-null  object\n",
      " 3   reviewer_id    68275 non-null  int64 \n",
      " 4   reviewer_name  68275 non-null  object\n",
      " 5   comments       68222 non-null  object\n",
      "dtypes: int64(3), object(3)\n",
      "memory usage: 3.1+ MB\n"
     ]
    }
   ],
   "source": [
    "dfReviews.info()"
   ]
  },
  {
   "cell_type": "code",
   "execution_count": 158,
   "id": "81431d5b",
   "metadata": {},
   "outputs": [
    {
     "name": "stdout",
     "output_type": "stream",
     "text": [
      "<class 'pandas.core.frame.DataFrame'>\n",
      "RangeIndex: 3585 entries, 0 to 3584\n",
      "Data columns (total 95 columns):\n",
      " #   Column                            Non-Null Count  Dtype  \n",
      "---  ------                            --------------  -----  \n",
      " 0   id                                3585 non-null   int64  \n",
      " 1   listing_url                       3585 non-null   object \n",
      " 2   scrape_id                         3585 non-null   int64  \n",
      " 3   last_scraped                      3585 non-null   object \n",
      " 4   name                              3585 non-null   object \n",
      " 5   summary                           3442 non-null   object \n",
      " 6   space                             2528 non-null   object \n",
      " 7   description                       3585 non-null   object \n",
      " 8   experiences_offered               3585 non-null   object \n",
      " 9   neighborhood_overview             2170 non-null   object \n",
      " 10  notes                             1610 non-null   object \n",
      " 11  transit                           2295 non-null   object \n",
      " 12  access                            2096 non-null   object \n",
      " 13  interaction                       2031 non-null   object \n",
      " 14  house_rules                       2393 non-null   object \n",
      " 15  thumbnail_url                     2986 non-null   object \n",
      " 16  medium_url                        2986 non-null   object \n",
      " 17  picture_url                       3585 non-null   object \n",
      " 18  xl_picture_url                    2986 non-null   object \n",
      " 19  host_id                           3585 non-null   int64  \n",
      " 20  host_url                          3585 non-null   object \n",
      " 21  host_name                         3585 non-null   object \n",
      " 22  host_since                        3585 non-null   object \n",
      " 23  host_location                     3574 non-null   object \n",
      " 24  host_about                        2276 non-null   object \n",
      " 25  host_response_time                3114 non-null   object \n",
      " 26  host_response_rate                3114 non-null   object \n",
      " 27  host_acceptance_rate              3114 non-null   object \n",
      " 28  host_is_superhost                 3585 non-null   object \n",
      " 29  host_thumbnail_url                3585 non-null   object \n",
      " 30  host_picture_url                  3585 non-null   object \n",
      " 31  host_neighbourhood                3246 non-null   object \n",
      " 32  host_listings_count               3585 non-null   int64  \n",
      " 33  host_total_listings_count         3585 non-null   int64  \n",
      " 34  host_verifications                3585 non-null   object \n",
      " 35  host_has_profile_pic              3585 non-null   object \n",
      " 36  host_identity_verified            3585 non-null   object \n",
      " 37  street                            3585 non-null   object \n",
      " 38  neighbourhood                     3042 non-null   object \n",
      " 39  neighbourhood_cleansed            3585 non-null   object \n",
      " 40  neighbourhood_group_cleansed      0 non-null      float64\n",
      " 41  city                              3583 non-null   object \n",
      " 42  state                             3585 non-null   object \n",
      " 43  zipcode                           3547 non-null   object \n",
      " 44  market                            3571 non-null   object \n",
      " 45  smart_location                    3585 non-null   object \n",
      " 46  country_code                      3585 non-null   object \n",
      " 47  country                           3585 non-null   object \n",
      " 48  latitude                          3585 non-null   float64\n",
      " 49  longitude                         3585 non-null   float64\n",
      " 50  is_location_exact                 3585 non-null   object \n",
      " 51  property_type                     3582 non-null   object \n",
      " 52  room_type                         3585 non-null   object \n",
      " 53  accommodates                      3585 non-null   int64  \n",
      " 54  bathrooms                         3571 non-null   float64\n",
      " 55  bedrooms                          3575 non-null   float64\n",
      " 56  beds                              3576 non-null   float64\n",
      " 57  bed_type                          3585 non-null   object \n",
      " 58  amenities                         3585 non-null   object \n",
      " 59  square_feet                       56 non-null     float64\n",
      " 60  price                             3585 non-null   object \n",
      " 61  weekly_price                      892 non-null    object \n",
      " 62  monthly_price                     888 non-null    object \n",
      " 63  security_deposit                  1342 non-null   object \n",
      " 64  cleaning_fee                      2478 non-null   object \n",
      " 65  guests_included                   3585 non-null   int64  \n",
      " 66  extra_people                      3585 non-null   object \n",
      " 67  minimum_nights                    3585 non-null   int64  \n",
      " 68  maximum_nights                    3585 non-null   int64  \n",
      " 69  calendar_updated                  3585 non-null   object \n",
      " 70  has_availability                  0 non-null      float64\n",
      " 71  availability_30                   3585 non-null   int64  \n",
      " 72  availability_60                   3585 non-null   int64  \n",
      " 73  availability_90                   3585 non-null   int64  \n",
      " 74  availability_365                  3585 non-null   int64  \n",
      " 75  calendar_last_scraped             3585 non-null   object \n",
      " 76  number_of_reviews                 3585 non-null   int64  \n",
      " 77  first_review                      2829 non-null   object \n",
      " 78  last_review                       2829 non-null   object \n",
      " 79  review_scores_rating              2772 non-null   float64\n",
      " 80  review_scores_accuracy            2762 non-null   float64\n",
      " 81  review_scores_cleanliness         2767 non-null   float64\n",
      " 82  review_scores_checkin             2765 non-null   float64\n",
      " 83  review_scores_communication       2767 non-null   float64\n",
      " 84  review_scores_location            2763 non-null   float64\n",
      " 85  review_scores_value               2764 non-null   float64\n",
      " 86  requires_license                  3585 non-null   object \n",
      " 87  license                           0 non-null      float64\n",
      " 88  jurisdiction_names                0 non-null      float64\n",
      " 89  instant_bookable                  3585 non-null   object \n",
      " 90  cancellation_policy               3585 non-null   object \n",
      " 91  require_guest_profile_picture     3585 non-null   object \n",
      " 92  require_guest_phone_verification  3585 non-null   object \n",
      " 93  calculated_host_listings_count    3585 non-null   int64  \n",
      " 94  reviews_per_month                 2829 non-null   float64\n",
      "dtypes: float64(18), int64(15), object(62)\n",
      "memory usage: 2.6+ MB\n"
     ]
    }
   ],
   "source": [
    "dfListings.info()"
   ]
  },
  {
   "cell_type": "markdown",
   "id": "5dfff355",
   "metadata": {},
   "source": [
    "## Part 2 Lets investigate \"prices\" in fille listings.csv"
   ]
  },
  {
   "cell_type": "markdown",
   "id": "ae22eb27",
   "metadata": {},
   "source": [
    "### Question 1 | What is the avg price of this dataset?"
   ]
  },
  {
   "cell_type": "code",
   "execution_count": 159,
   "id": "416fef4d",
   "metadata": {},
   "outputs": [
    {
     "data": {
      "text/plain": [
       "0"
      ]
     },
     "execution_count": 159,
     "metadata": {},
     "output_type": "execute_result"
    }
   ],
   "source": [
    "#We will check if na values, we can see that we don't have na values\n",
    "dfListings['price'].isna().sum()"
   ]
  },
  {
   "cell_type": "code",
   "execution_count": 160,
   "id": "7933b918",
   "metadata": {},
   "outputs": [],
   "source": [
    "prices = dfListings['price'].values"
   ]
  },
  {
   "cell_type": "markdown",
   "id": "a9ec2718",
   "metadata": {},
   "source": [
    "#### Let's see what column price contains"
   ]
  },
  {
   "cell_type": "code",
   "execution_count": 161,
   "id": "db0d1bde",
   "metadata": {},
   "outputs": [
    {
     "name": "stdout",
     "output_type": "stream",
     "text": [
      "First 10 Price Values:\n",
      "['$250.00' '$65.00' '$65.00' '$75.00' '$79.00' '$75.00' '$100.00' '$75.00'\n",
      " '$58.00' '$229.00']\n"
     ]
    }
   ],
   "source": [
    "print(\"First 10 Price Values:\")\n",
    "print(prices[:10])"
   ]
  },
  {
   "cell_type": "code",
   "execution_count": 162,
   "id": "9b904dd0",
   "metadata": {},
   "outputs": [],
   "source": [
    "#We can see that we need to clear price column."
   ]
  },
  {
   "cell_type": "markdown",
   "id": "ad18f039",
   "metadata": {},
   "source": [
    "## Part 2.1 Lets clear price column."
   ]
  },
  {
   "cell_type": "markdown",
   "id": "b2f6da1d",
   "metadata": {},
   "source": [
    "#### Our data contain the $ sign so we will remove it"
   ]
  },
  {
   "cell_type": "code",
   "execution_count": 163,
   "id": "544db746",
   "metadata": {},
   "outputs": [],
   "source": [
    "# Remove dollar signs and convert 'price' column to numeric\n",
    "dfListings['price'] = dfListings['price'].replace('[\\$,]', '', regex=True)"
   ]
  },
  {
   "cell_type": "markdown",
   "id": "c02d76f8",
   "metadata": {},
   "source": [
    "#### Now we will convert string to float values"
   ]
  },
  {
   "cell_type": "code",
   "execution_count": 164,
   "id": "3bae5982",
   "metadata": {},
   "outputs": [],
   "source": [
    "dfListings['price'] = dfListings['price'].astype(float)"
   ]
  },
  {
   "cell_type": "code",
   "execution_count": 165,
   "id": "3e0c51ce",
   "metadata": {},
   "outputs": [],
   "source": [
    "prices = dfListings['price'].values"
   ]
  },
  {
   "cell_type": "markdown",
   "id": "7cd6f35b",
   "metadata": {},
   "source": [
    "## Part 2.2 Lets get some statistics about prices"
   ]
  },
  {
   "cell_type": "code",
   "execution_count": 166,
   "id": "43beacfd",
   "metadata": {},
   "outputs": [],
   "source": [
    "#This a method that display statistics about a list of numbers\n",
    "def statistics(values):\n",
    "    # Calculate statistics\n",
    "    avg_price = np.mean(values)\n",
    "    median_price = np.median(values)\n",
    "    std_dev_price = np.std(values)\n",
    "    min_price = np.min(values)\n",
    "    max_price = np.max(values)\n",
    "\n",
    "    # Print the calculated statistics\n",
    "    print(f\"Average Price: {avg_price:.2f}\")\n",
    "    print(f\"Median Price : {median_price}\")\n",
    "    print(f\"Standard Deviation: {std_dev_price:.2f}\")\n",
    "    print(f\"Minimum Price: {min_price}\")\n",
    "    print(f\"Maximum Price: {max_price}\")"
   ]
  },
  {
   "cell_type": "code",
   "execution_count": 167,
   "id": "06929aec",
   "metadata": {},
   "outputs": [
    {
     "name": "stdout",
     "output_type": "stream",
     "text": [
      "Average Price: 173.93\n",
      "Median Price : 150.0\n",
      "Standard Deviation: 148.31\n",
      "Minimum Price: 10.0\n",
      "Maximum Price: 4000.0\n"
     ]
    }
   ],
   "source": [
    "#Let's execute def statistics\n",
    "statistics(prices)"
   ]
  },
  {
   "cell_type": "markdown",
   "id": "b63c1293",
   "metadata": {},
   "source": [
    "## Part 2.2.1 Lets visualise prices"
   ]
  },
  {
   "cell_type": "code",
   "execution_count": 168,
   "id": "1979edff",
   "metadata": {},
   "outputs": [],
   "source": [
    "#This a method that visualise values\n",
    "def histoGraph(values):\n",
    "    plt.hist(values, bins=30, edgecolor='black')  # Adjust bins as per your data distribution\n",
    "    plt.show() "
   ]
  },
  {
   "cell_type": "code",
   "execution_count": 199,
   "id": "15258d2c",
   "metadata": {},
   "outputs": [
    {
     "data": {
      "image/png": "[encoded data removed]",
      "text/plain": [
       "<Figure size 432x288 with 1 Axes>"
      ]
     },
     "metadata": {
      "needs_background": "light"
     },
     "output_type": "display_data"
    }
   ],
   "source": [
    "#Let's execute def histoGraph\n",
    "histoGraph(prices)"
   ]
  },
  {
   "cell_type": "markdown",
   "id": "ddb87a1c",
   "metadata": {},
   "source": [
    "### So the avg price is 173.93 $"
   ]
  },
  {
   "cell_type": "markdown",
   "id": "e40220a5",
   "metadata": {},
   "source": [
    "## Part 3 Lets investigate \"reviews_per_month\" in fille listings.csv"
   ]
  },
  {
   "cell_type": "markdown",
   "id": "0c4d05f7",
   "metadata": {},
   "source": [
    "### Question 2 | What is the avg review for a room?"
   ]
  },
  {
   "cell_type": "code",
   "execution_count": 200,
   "id": "aef723ad",
   "metadata": {},
   "outputs": [
    {
     "data": {
      "text/plain": [
       "756"
      ]
     },
     "execution_count": 200,
     "metadata": {},
     "output_type": "execute_result"
    }
   ],
   "source": [
    "#We will check if na values\n",
    "dfListings['reviews_per_month'].isna().sum()"
   ]
  },
  {
   "cell_type": "code",
   "execution_count": 201,
   "id": "5e1b4b5a",
   "metadata": {},
   "outputs": [
    {
     "data": {
      "text/plain": [
       "2829"
      ]
     },
     "execution_count": 201,
     "metadata": {},
     "output_type": "execute_result"
    }
   ],
   "source": [
    "#And no na values\n",
    "dfListings['reviews_per_month'].notna().sum()"
   ]
  },
  {
   "cell_type": "code",
   "execution_count": 202,
   "id": "4441897a",
   "metadata": {},
   "outputs": [
    {
     "name": "stdout",
     "output_type": "stream",
     "text": [
      "21.08786610878661 %\n"
     ]
    }
   ],
   "source": [
    "#Lets find how % are the na from our total data\n",
    "print (\n",
    "    ((dfListings['reviews_per_month'].isna().sum() * 100) / \n",
    "       (dfListings['reviews_per_month'].notna().sum() + dfListings['reviews_per_month'].isna().sum())), \"%\"\n",
    ")"
   ]
  },
  {
   "cell_type": "code",
   "execution_count": 203,
   "id": "5571df09",
   "metadata": {},
   "outputs": [],
   "source": [
    "#So now we know that we don't include more that 21% of our data."
   ]
  },
  {
   "cell_type": "markdown",
   "id": "08cc1ee8",
   "metadata": {},
   "source": [
    "## Part 3.2 Lets get some statistics about reviews_per_month"
   ]
  },
  {
   "cell_type": "code",
   "execution_count": 188,
   "id": "ad887b3c",
   "metadata": {},
   "outputs": [
    {
     "name": "stdout",
     "output_type": "stream",
     "text": [
      "Average Price: 0.79\n",
      "Median Price : 1.0\n",
      "Standard Deviation: 0.41\n",
      "Minimum Price: 0.0\n",
      "Maximum Price: 1.0\n"
     ]
    }
   ],
   "source": [
    "# We will use the def statistics\n",
    "reviews = dfListings['reviews_per_month'].notna().astype(float).values\n",
    "statistics(reviews)"
   ]
  },
  {
   "cell_type": "markdown",
   "id": "f1d58d8c",
   "metadata": {},
   "source": [
    "## Part 3.2.1 Lets visualise reviews"
   ]
  },
  {
   "cell_type": "code",
   "execution_count": 189,
   "id": "9629481b",
   "metadata": {},
   "outputs": [
    {
     "data": {
      "image/png": "[encoded data removed]",
      "text/plain": [
       "<Figure size 432x288 with 1 Axes>"
      ]
     },
     "metadata": {
      "needs_background": "light"
     },
     "output_type": "display_data"
    }
   ],
   "source": [
    "# We will use the def histoGraph\n",
    "histoGraph(reviews)"
   ]
  },
  {
   "cell_type": "markdown",
   "id": "8b227d16",
   "metadata": {},
   "source": [
    "### So the avg reviews_per_month is 0.79."
   ]
  },
  {
   "cell_type": "markdown",
   "id": "4f80fd43",
   "metadata": {},
   "source": [
    "## Part 3.3 Lets manipulate na values"
   ]
  },
  {
   "cell_type": "markdown",
   "id": "48afd543",
   "metadata": {},
   "source": [
    "### We wiil investigate our finding if we replace na values with avg value"
   ]
  },
  {
   "cell_type": "code",
   "execution_count": 204,
   "id": "832e953d",
   "metadata": {},
   "outputs": [],
   "source": [
    "df_fulledReviews = dfListings['reviews_per_month'].fillna(0.79)"
   ]
  },
  {
   "cell_type": "markdown",
   "id": "e6bbc381",
   "metadata": {},
   "source": [
    "## Part 3.3.1 Lets get some statistics about reviews_per_month with na values manipulation"
   ]
  },
  {
   "cell_type": "code",
   "execution_count": 194,
   "id": "10b848ac",
   "metadata": {},
   "outputs": [],
   "source": [
    "fulledReviews = df_fulledReviews.astype(float).values"
   ]
  },
  {
   "cell_type": "code",
   "execution_count": 197,
   "id": "cd14df2e",
   "metadata": {},
   "outputs": [
    {
     "name": "stdout",
     "output_type": "stream",
     "text": [
      "Average Price: 1.72\n",
      "Median Price : 0.79\n",
      "Standard Deviation: 1.94\n",
      "Minimum Price: 0.01\n",
      "Maximum Price: 19.15\n"
     ]
    }
   ],
   "source": [
    "statistics(fulledReviews)"
   ]
  },
  {
   "cell_type": "markdown",
   "id": "7ab4e82b",
   "metadata": {},
   "source": [
    "## Part 3.3.2 Lets visualise reviews_per_month with na values manipulation"
   ]
  },
  {
   "cell_type": "code",
   "execution_count": 198,
   "id": "8abfb301",
   "metadata": {},
   "outputs": [
    {
     "data": {
      "image/png": "[encoded data removed]",
      "text/plain": [
       "<Figure size 432x288 with 1 Axes>"
      ]
     },
     "metadata": {
      "needs_background": "light"
     },
     "output_type": "display_data"
    }
   ],
   "source": [
    "histoGraph(fulledReviews)"
   ]
  },
  {
   "cell_type": "markdown",
   "id": "7637bab5",
   "metadata": {},
   "source": [
    "### So the avg reviews_per_month if we replace na values with avg value is 1.72."
   ]
  },
  {
   "cell_type": "markdown",
   "id": "52b570bb",
   "metadata": {},
   "source": [
    "## Part 4 Lets investigate category values as \"cities\" in city.csv"
   ]
  },
  {
   "cell_type": "markdown",
   "id": "a36bdb68",
   "metadata": {},
   "source": [
    "### Question 3 | Which city us the most popular?"
   ]
  },
  {
   "cell_type": "markdown",
   "id": "6648c368",
   "metadata": {},
   "source": [
    "## Part 4.1 Lets investigte the unique values"
   ]
  },
  {
   "cell_type": "code",
   "execution_count": 209,
   "id": "253eca2c",
   "metadata": {},
   "outputs": [
    {
     "name": "stdout",
     "output_type": "stream",
     "text": [
      "['Boston' 'Roslindale' 'Roslindale, Boston' 'Jamaica Plain' 'Brookline'\n",
      " 'Jamaica Plain, Boston' 'Jamaica Plain (Boston)' 'Roxbury Crossing'\n",
      " 'Jamaica Plain ' 'Jamaica Plain, MA' 'Boston (Jamaica Plain)'\n",
      " 'Jamaica plain ' 'ROXBURY CROSSING' 'Mission Hill, Boston' 'boston' '波士顿'\n",
      " 'Boston, Massachusetts, US' 'South End, Boston' 'Cambridge' 'East Boston'\n",
      " 'east Boston ' 'Charlestown' 'Boston (Charlestown)' 'Somerville'\n",
      " 'Watertown' 'Brighton' 'Brighton ' 'Boston ' nan 'West Roxbury' 'Newton'\n",
      " 'Hyde Park' 'Mattapan' 'Milton' 'Dorchester' 'dorchester, boston '\n",
      " 'South Boston' 'Allston' 'ALLSTON']\n"
     ]
    }
   ],
   "source": [
    "unique_cities = dfListings['city'].unique()\n",
    "\n",
    "# Print all unique cities\n",
    "\n",
    "print(unique_cities)"
   ]
  },
  {
   "cell_type": "code",
   "execution_count": 210,
   "id": "111a6322",
   "metadata": {},
   "outputs": [
    {
     "data": {
      "text/plain": [
       "2"
      ]
     },
     "execution_count": 210,
     "metadata": {},
     "output_type": "execute_result"
    }
   ],
   "source": [
    "#We will check if na values (we can see them but lets make it sure)\n",
    "dfListings['city'].isna().sum()"
   ]
  },
  {
   "cell_type": "code",
   "execution_count": null,
   "id": "ba5554b5",
   "metadata": {},
   "outputs": [],
   "source": [
    "# With only 2 na values we can continue our analysis"
   ]
  },
  {
   "cell_type": "code",
   "execution_count": 35,
   "id": "46e565b4",
   "metadata": {},
   "outputs": [
    {
     "data": {
      "text/plain": [
       "3583"
      ]
     },
     "execution_count": 35,
     "metadata": {},
     "output_type": "execute_result"
    }
   ],
   "source": [
    "#And no na values\n",
    "dfListings['city'].notna().sum()"
   ]
  },
  {
   "cell_type": "code",
   "execution_count": 36,
   "id": "ff1a19fc",
   "metadata": {},
   "outputs": [
    {
     "name": "stdout",
     "output_type": "stream",
     "text": [
      "0.05578800557880056 %\n"
     ]
    }
   ],
   "source": [
    "#Lets find how % are the na from our total data\n",
    "print (\n",
    "    ((dfListings['city'].isna().sum() * 100) / \n",
    "       (dfListings['city'].notna().sum() + dfListings['city'].isna().sum())), \"%\"\n",
    ")"
   ]
  },
  {
   "cell_type": "code",
   "execution_count": 37,
   "id": "f47045a1",
   "metadata": {},
   "outputs": [],
   "source": [
    "#So now we know that we don't include more that 0.05% of our data, so we can continue"
   ]
  },
  {
   "cell_type": "code",
   "execution_count": 38,
   "id": "9f3340ae",
   "metadata": {},
   "outputs": [],
   "source": [
    "cities = dfListings['city'].dropna().tolist()"
   ]
  },
  {
   "cell_type": "code",
   "execution_count": 39,
   "id": "37be7e28",
   "metadata": {},
   "outputs": [
    {
     "name": "stderr",
     "output_type": "stream",
     "text": [
      "/var/folders/v5/w_f4h47d4rq122t8jytl0_xh0000gn/T/ipykernel_23491/257555768.py:12: UserWarning: Glyph 27874 (\\N{CJK UNIFIED IDEOGRAPH-6CE2}) missing from current font.\n",
      "  plt.tight_layout()\n",
      "/var/folders/v5/w_f4h47d4rq122t8jytl0_xh0000gn/T/ipykernel_23491/257555768.py:12: UserWarning: Glyph 22763 (\\N{CJK UNIFIED IDEOGRAPH-58EB}) missing from current font.\n",
      "  plt.tight_layout()\n",
      "/var/folders/v5/w_f4h47d4rq122t8jytl0_xh0000gn/T/ipykernel_23491/257555768.py:12: UserWarning: Glyph 39039 (\\N{CJK UNIFIED IDEOGRAPH-987F}) missing from current font.\n",
      "  plt.tight_layout()\n",
      "/opt/anaconda3/lib/python3.9/site-packages/IPython/core/pylabtools.py:151: UserWarning: Glyph 27874 (\\N{CJK UNIFIED IDEOGRAPH-6CE2}) missing from current font.\n",
      "  fig.canvas.print_figure(bytes_io, **kw)\n",
      "/opt/anaconda3/lib/python3.9/site-packages/IPython/core/pylabtools.py:151: UserWarning: Glyph 22763 (\\N{CJK UNIFIED IDEOGRAPH-58EB}) missing from current font.\n",
      "  fig.canvas.print_figure(bytes_io, **kw)\n",
      "/opt/anaconda3/lib/python3.9/site-packages/IPython/core/pylabtools.py:151: UserWarning: Glyph 39039 (\\N{CJK UNIFIED IDEOGRAPH-987F}) missing from current font.\n",
      "  fig.canvas.print_figure(bytes_io, **kw)\n"
     ]
    },
    {
     "data": {
      "image/png": "[encoded data removed]",
      "text/plain": [
       "<Figure size 864x576 with 1 Axes>"
      ]
     },
     "metadata": {
      "needs_background": "light"
     },
     "output_type": "display_data"
    }
   ],
   "source": [
    "# Count the frequency of each city\n",
    "city_counts = pd.Series(cities).value_counts()\n",
    "\n",
    "# Plot the data\n",
    "\n",
    "plt.figure(figsize=(12, 8))\n",
    "city_counts.plot(kind='bar', color='skyblue')\n",
    "plt.title('Frequency of Cities')\n",
    "plt.xlabel('City')\n",
    "plt.ylabel('Frequency')\n",
    "plt.xticks(rotation=90) \n",
    "plt.tight_layout()  "
   ]
  },
  {
   "cell_type": "code",
   "execution_count": 41,
   "id": "612fcd9f",
   "metadata": {},
   "outputs": [],
   "source": [
    "# Show the plot\n",
    "plt.show()"
   ]
  },
  {
   "cell_type": "code",
   "execution_count": 42,
   "id": "6b9ecee3",
   "metadata": {},
   "outputs": [],
   "source": [
    "#We can see that we have issues with chinese characters but we can skip it for now.\n",
    "#It is necessery to handle duplicate values as:\n",
    "\n",
    "#'Jamaica Plain, Boston' 'Jamaica Plain (Boston)' 'Roxbury Crossing'\n",
    "#'Jamaica Plain ' 'Jamaica Plain, MA' 'Boston (Jamaica Plain)'\n",
    "#'Jamaica plain ' 'ROXBURY CROSSING'"
   ]
  },
  {
   "cell_type": "code",
   "execution_count": null,
   "id": "2c40403c",
   "metadata": {},
   "outputs": [],
   "source": []
  }
 ],
 "metadata": {
  "kernelspec": {
   "display_name": "Python 3 (ipykernel)",
   "language": "python",
   "name": "python3"
  },
  "language_info": {
   "codemirror_mode": {
    "name": "ipython",
    "version": 3
   },
   "file_extension": ".py",
   "mimetype": "text/x-python",
   "name": "python",
   "nbconvert_exporter": "python",
   "pygments_lexer": "ipython3",
   "version": "3.9.12"
  }
 },
 "nbformat": 4,
 "nbformat_minor": 5
}
