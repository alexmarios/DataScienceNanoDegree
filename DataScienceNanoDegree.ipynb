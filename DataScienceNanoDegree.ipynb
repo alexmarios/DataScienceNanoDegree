{
 "cells": [
  {
   "cell_type": "code",
   "execution_count": 1,
   "id": "50b6e747",
   "metadata": {},
   "outputs": [],
   "source": [
    "import numpy as np\n",
    "import pandas as pd\n",
    "import matplotlib.pyplot as plt\n",
    "import seaborn as sns\n",
    "%matplotlib inline"
   ]
  },
  {
   "cell_type": "code",
   "execution_count": 2,
   "id": "e9a78ded",
   "metadata": {},
   "outputs": [],
   "source": [
    "dfCalendar = pd.read_csv('/Users/alex/Downloads/archive/calendar.csv')\n",
    "dfListings = pd.read_csv('/Users/alex/Downloads/archive/listings.csv')\n",
    "dfReviews = pd.read_csv('/Users/alex/Downloads/archive/reviews.csv')"
   ]
  },
  {
   "cell_type": "code",
   "execution_count": 3,
   "id": "1782b742",
   "metadata": {},
   "outputs": [],
   "source": [
    "#Now we will see the info of our data"
   ]
  },
  {
   "cell_type": "code",
   "execution_count": 4,
   "id": "037e940e",
   "metadata": {},
   "outputs": [
    {
     "name": "stdout",
     "output_type": "stream",
     "text": [
      "<class 'pandas.core.frame.DataFrame'>\n",
      "RangeIndex: 1308890 entries, 0 to 1308889\n",
      "Data columns (total 4 columns):\n",
      " #   Column      Non-Null Count    Dtype \n",
      "---  ------      --------------    ----- \n",
      " 0   listing_id  1308890 non-null  int64 \n",
      " 1   date        1308890 non-null  object\n",
      " 2   available   1308890 non-null  object\n",
      " 3   price       643037 non-null   object\n",
      "dtypes: int64(1), object(3)\n",
      "memory usage: 39.9+ MB\n"
     ]
    }
   ],
   "source": [
    "dfCalendar.info()"
   ]
  },
  {
   "cell_type": "code",
   "execution_count": 5,
   "id": "0b62bccb",
   "metadata": {},
   "outputs": [
    {
     "name": "stdout",
     "output_type": "stream",
     "text": [
      "<class 'pandas.core.frame.DataFrame'>\n",
      "RangeIndex: 68275 entries, 0 to 68274\n",
      "Data columns (total 6 columns):\n",
      " #   Column         Non-Null Count  Dtype \n",
      "---  ------         --------------  ----- \n",
      " 0   listing_id     68275 non-null  int64 \n",
      " 1   id             68275 non-null  int64 \n",
      " 2   date           68275 non-null  object\n",
      " 3   reviewer_id    68275 non-null  int64 \n",
      " 4   reviewer_name  68275 non-null  object\n",
      " 5   comments       68222 non-null  object\n",
      "dtypes: int64(3), object(3)\n",
      "memory usage: 3.1+ MB\n"
     ]
    }
   ],
   "source": [
    "dfReviews.info()"
   ]
  },
  {
   "cell_type": "code",
   "execution_count": 6,
   "id": "81431d5b",
   "metadata": {},
   "outputs": [
    {
     "name": "stdout",
     "output_type": "stream",
     "text": [
      "<class 'pandas.core.frame.DataFrame'>\n",
      "RangeIndex: 3585 entries, 0 to 3584\n",
      "Data columns (total 95 columns):\n",
      " #   Column                            Non-Null Count  Dtype  \n",
      "---  ------                            --------------  -----  \n",
      " 0   id                                3585 non-null   int64  \n",
      " 1   listing_url                       3585 non-null   object \n",
      " 2   scrape_id                         3585 non-null   int64  \n",
      " 3   last_scraped                      3585 non-null   object \n",
      " 4   name                              3585 non-null   object \n",
      " 5   summary                           3442 non-null   object \n",
      " 6   space                             2528 non-null   object \n",
      " 7   description                       3585 non-null   object \n",
      " 8   experiences_offered               3585 non-null   object \n",
      " 9   neighborhood_overview             2170 non-null   object \n",
      " 10  notes                             1610 non-null   object \n",
      " 11  transit                           2295 non-null   object \n",
      " 12  access                            2096 non-null   object \n",
      " 13  interaction                       2031 non-null   object \n",
      " 14  house_rules                       2393 non-null   object \n",
      " 15  thumbnail_url                     2986 non-null   object \n",
      " 16  medium_url                        2986 non-null   object \n",
      " 17  picture_url                       3585 non-null   object \n",
      " 18  xl_picture_url                    2986 non-null   object \n",
      " 19  host_id                           3585 non-null   int64  \n",
      " 20  host_url                          3585 non-null   object \n",
      " 21  host_name                         3585 non-null   object \n",
      " 22  host_since                        3585 non-null   object \n",
      " 23  host_location                     3574 non-null   object \n",
      " 24  host_about                        2276 non-null   object \n",
      " 25  host_response_time                3114 non-null   object \n",
      " 26  host_response_rate                3114 non-null   object \n",
      " 27  host_acceptance_rate              3114 non-null   object \n",
      " 28  host_is_superhost                 3585 non-null   object \n",
      " 29  host_thumbnail_url                3585 non-null   object \n",
      " 30  host_picture_url                  3585 non-null   object \n",
      " 31  host_neighbourhood                3246 non-null   object \n",
      " 32  host_listings_count               3585 non-null   int64  \n",
      " 33  host_total_listings_count         3585 non-null   int64  \n",
      " 34  host_verifications                3585 non-null   object \n",
      " 35  host_has_profile_pic              3585 non-null   object \n",
      " 36  host_identity_verified            3585 non-null   object \n",
      " 37  street                            3585 non-null   object \n",
      " 38  neighbourhood                     3042 non-null   object \n",
      " 39  neighbourhood_cleansed            3585 non-null   object \n",
      " 40  neighbourhood_group_cleansed      0 non-null      float64\n",
      " 41  city                              3583 non-null   object \n",
      " 42  state                             3585 non-null   object \n",
      " 43  zipcode                           3547 non-null   object \n",
      " 44  market                            3571 non-null   object \n",
      " 45  smart_location                    3585 non-null   object \n",
      " 46  country_code                      3585 non-null   object \n",
      " 47  country                           3585 non-null   object \n",
      " 48  latitude                          3585 non-null   float64\n",
      " 49  longitude                         3585 non-null   float64\n",
      " 50  is_location_exact                 3585 non-null   object \n",
      " 51  property_type                     3582 non-null   object \n",
      " 52  room_type                         3585 non-null   object \n",
      " 53  accommodates                      3585 non-null   int64  \n",
      " 54  bathrooms                         3571 non-null   float64\n",
      " 55  bedrooms                          3575 non-null   float64\n",
      " 56  beds                              3576 non-null   float64\n",
      " 57  bed_type                          3585 non-null   object \n",
      " 58  amenities                         3585 non-null   object \n",
      " 59  square_feet                       56 non-null     float64\n",
      " 60  price                             3585 non-null   object \n",
      " 61  weekly_price                      892 non-null    object \n",
      " 62  monthly_price                     888 non-null    object \n",
      " 63  security_deposit                  1342 non-null   object \n",
      " 64  cleaning_fee                      2478 non-null   object \n",
      " 65  guests_included                   3585 non-null   int64  \n",
      " 66  extra_people                      3585 non-null   object \n",
      " 67  minimum_nights                    3585 non-null   int64  \n",
      " 68  maximum_nights                    3585 non-null   int64  \n",
      " 69  calendar_updated                  3585 non-null   object \n",
      " 70  has_availability                  0 non-null      float64\n",
      " 71  availability_30                   3585 non-null   int64  \n",
      " 72  availability_60                   3585 non-null   int64  \n",
      " 73  availability_90                   3585 non-null   int64  \n",
      " 74  availability_365                  3585 non-null   int64  \n",
      " 75  calendar_last_scraped             3585 non-null   object \n",
      " 76  number_of_reviews                 3585 non-null   int64  \n",
      " 77  first_review                      2829 non-null   object \n",
      " 78  last_review                       2829 non-null   object \n",
      " 79  review_scores_rating              2772 non-null   float64\n",
      " 80  review_scores_accuracy            2762 non-null   float64\n",
      " 81  review_scores_cleanliness         2767 non-null   float64\n",
      " 82  review_scores_checkin             2765 non-null   float64\n",
      " 83  review_scores_communication       2767 non-null   float64\n",
      " 84  review_scores_location            2763 non-null   float64\n",
      " 85  review_scores_value               2764 non-null   float64\n",
      " 86  requires_license                  3585 non-null   object \n",
      " 87  license                           0 non-null      float64\n",
      " 88  jurisdiction_names                0 non-null      float64\n",
      " 89  instant_bookable                  3585 non-null   object \n",
      " 90  cancellation_policy               3585 non-null   object \n",
      " 91  require_guest_profile_picture     3585 non-null   object \n",
      " 92  require_guest_phone_verification  3585 non-null   object \n",
      " 93  calculated_host_listings_count    3585 non-null   int64  \n",
      " 94  reviews_per_month                 2829 non-null   float64\n",
      "dtypes: float64(18), int64(15), object(62)\n",
      "memory usage: 2.6+ MB\n"
     ]
    }
   ],
   "source": [
    "dfListings.info()"
   ]
  },
  {
   "cell_type": "code",
   "execution_count": 7,
   "id": "de844e3f",
   "metadata": {},
   "outputs": [],
   "source": [
    "#Question 1 | Get some information about 'prices' in fille listings.csv"
   ]
  },
  {
   "cell_type": "code",
   "execution_count": 8,
   "id": "31ba6ae3",
   "metadata": {},
   "outputs": [],
   "source": [
    "#We will see some info about prices"
   ]
  },
  {
   "cell_type": "code",
   "execution_count": 9,
   "id": "416fef4d",
   "metadata": {},
   "outputs": [
    {
     "data": {
      "text/plain": [
       "0"
      ]
     },
     "execution_count": 9,
     "metadata": {},
     "output_type": "execute_result"
    }
   ],
   "source": [
    "#We will check if na values\n",
    "dfListings['price'].isna().sum()"
   ]
  },
  {
   "cell_type": "code",
   "execution_count": 10,
   "id": "7933b918",
   "metadata": {},
   "outputs": [],
   "source": [
    "prices = dfListings['price'].values"
   ]
  },
  {
   "cell_type": "code",
   "execution_count": 11,
   "id": "db0d1bde",
   "metadata": {},
   "outputs": [
    {
     "name": "stdout",
     "output_type": "stream",
     "text": [
      "First 10 Price Values:\n",
      "['$250.00' '$65.00' '$65.00' '$75.00' '$79.00' '$75.00' '$100.00' '$75.00'\n",
      " '$58.00' '$229.00']\n"
     ]
    }
   ],
   "source": [
    "print(\"First 10 Price Values:\")\n",
    "print(prices[:10])"
   ]
  },
  {
   "cell_type": "code",
   "execution_count": 12,
   "id": "aa3016d3",
   "metadata": {},
   "outputs": [],
   "source": [
    "#Data type is obj so we will remove the $ sign and we will convert values as dollars"
   ]
  },
  {
   "cell_type": "code",
   "execution_count": 13,
   "id": "544db746",
   "metadata": {},
   "outputs": [],
   "source": [
    "# Remove dollar signs and convert 'price' column to numeric\n",
    "dfListings['price'] = dfListings['price'].replace('[\\$,]', '', regex=True).astype(float)"
   ]
  },
  {
   "cell_type": "code",
   "execution_count": 14,
   "id": "3e0c51ce",
   "metadata": {},
   "outputs": [],
   "source": [
    "prices = dfListings['price'].values"
   ]
  },
  {
   "cell_type": "code",
   "execution_count": 15,
   "id": "43beacfd",
   "metadata": {},
   "outputs": [
    {
     "name": "stdout",
     "output_type": "stream",
     "text": [
      "Average Price: 173.93\n",
      "Median Price : 150.0\n",
      "Standard Deviation: 148.31\n",
      "Minimum Price: 10.0\n",
      "Maximum Price: 4000.0\n"
     ]
    }
   ],
   "source": [
    "# Calculate statistics\n",
    "avg_price = np.mean(prices)\n",
    "median_price = np.median(prices)\n",
    "std_dev_price = np.std(prices)\n",
    "min_price = np.min(prices)\n",
    "max_price = np.max(prices)\n",
    "\n",
    "# Print the calculated statistics\n",
    "print(f\"Average Price: {avg_price:.2f}\")\n",
    "print(f\"Median Price : {median_price}\")\n",
    "print(f\"Standard Deviation: {std_dev_price:.2f}\")\n",
    "print(f\"Minimum Price: {min_price}\")\n",
    "print(f\"Maximum Price: {max_price}\")"
   ]
  },
  {
   "cell_type": "code",
   "execution_count": 16,
   "id": "1979edff",
   "metadata": {},
   "outputs": [
    {
     "data": {
      "image/png": "[encoded data removed]",
      "text/plain": [
       "<Figure size 432x288 with 1 Axes>"
      ]
     },
     "metadata": {
      "needs_background": "light"
     },
     "output_type": "display_data"
    }
   ],
   "source": [
    "plt.hist(prices, bins=30, edgecolor='black')  # Adjust bins as per your data distribution\n",
    "plt.show() "
   ]
  },
  {
   "cell_type": "code",
   "execution_count": 17,
   "id": "447c2f30",
   "metadata": {},
   "outputs": [],
   "source": [
    "#Now we have some info about prices"
   ]
  },
  {
   "cell_type": "code",
   "execution_count": 18,
   "id": "f3d0c520",
   "metadata": {},
   "outputs": [],
   "source": [
    "#Question 2 | If the place / room is available get info about price"
   ]
  },
  {
   "cell_type": "code",
   "execution_count": 19,
   "id": "8f90c5c6",
   "metadata": {},
   "outputs": [],
   "source": [
    "# we will dig into calendar.csv"
   ]
  },
  {
   "cell_type": "code",
   "execution_count": 20,
   "id": "4b43b0f4",
   "metadata": {},
   "outputs": [
    {
     "data": {
      "text/html": [
       "<div>\n",
       "<style scoped>\n",
       "    .dataframe tbody tr th:only-of-type {\n",
       "        vertical-align: middle;\n",
       "    }\n",
       "\n",
       "    .dataframe tbody tr th {\n",
       "        vertical-align: top;\n",
       "    }\n",
       "\n",
       "    .dataframe thead th {\n",
       "        text-align: right;\n",
       "    }\n",
       "</style>\n",
       "<table border=\"1\" class=\"dataframe\">\n",
       "  <thead>\n",
       "    <tr style=\"text-align: right;\">\n",
       "      <th></th>\n",
       "      <th>listing_id</th>\n",
       "      <th>date</th>\n",
       "      <th>available</th>\n",
       "      <th>price</th>\n",
       "    </tr>\n",
       "  </thead>\n",
       "  <tbody>\n",
       "    <tr>\n",
       "      <th>0</th>\n",
       "      <td>12147973</td>\n",
       "      <td>2017-09-05</td>\n",
       "      <td>f</td>\n",
       "      <td>NaN</td>\n",
       "    </tr>\n",
       "    <tr>\n",
       "      <th>1</th>\n",
       "      <td>12147973</td>\n",
       "      <td>2017-09-04</td>\n",
       "      <td>f</td>\n",
       "      <td>NaN</td>\n",
       "    </tr>\n",
       "    <tr>\n",
       "      <th>2</th>\n",
       "      <td>12147973</td>\n",
       "      <td>2017-09-03</td>\n",
       "      <td>f</td>\n",
       "      <td>NaN</td>\n",
       "    </tr>\n",
       "    <tr>\n",
       "      <th>3</th>\n",
       "      <td>12147973</td>\n",
       "      <td>2017-09-02</td>\n",
       "      <td>f</td>\n",
       "      <td>NaN</td>\n",
       "    </tr>\n",
       "    <tr>\n",
       "      <th>4</th>\n",
       "      <td>12147973</td>\n",
       "      <td>2017-09-01</td>\n",
       "      <td>f</td>\n",
       "      <td>NaN</td>\n",
       "    </tr>\n",
       "    <tr>\n",
       "      <th>...</th>\n",
       "      <td>...</td>\n",
       "      <td>...</td>\n",
       "      <td>...</td>\n",
       "      <td>...</td>\n",
       "    </tr>\n",
       "    <tr>\n",
       "      <th>495</th>\n",
       "      <td>3075044</td>\n",
       "      <td>2017-04-14</td>\n",
       "      <td>t</td>\n",
       "      <td>$75.00</td>\n",
       "    </tr>\n",
       "    <tr>\n",
       "      <th>496</th>\n",
       "      <td>3075044</td>\n",
       "      <td>2017-04-13</td>\n",
       "      <td>t</td>\n",
       "      <td>$65.00</td>\n",
       "    </tr>\n",
       "    <tr>\n",
       "      <th>497</th>\n",
       "      <td>3075044</td>\n",
       "      <td>2017-04-12</td>\n",
       "      <td>t</td>\n",
       "      <td>$65.00</td>\n",
       "    </tr>\n",
       "    <tr>\n",
       "      <th>498</th>\n",
       "      <td>3075044</td>\n",
       "      <td>2017-04-11</td>\n",
       "      <td>t</td>\n",
       "      <td>$65.00</td>\n",
       "    </tr>\n",
       "    <tr>\n",
       "      <th>499</th>\n",
       "      <td>3075044</td>\n",
       "      <td>2017-04-10</td>\n",
       "      <td>t</td>\n",
       "      <td>$65.00</td>\n",
       "    </tr>\n",
       "  </tbody>\n",
       "</table>\n",
       "<p>500 rows × 4 columns</p>\n",
       "</div>"
      ],
      "text/plain": [
       "     listing_id        date available   price\n",
       "0      12147973  2017-09-05         f     NaN\n",
       "1      12147973  2017-09-04         f     NaN\n",
       "2      12147973  2017-09-03         f     NaN\n",
       "3      12147973  2017-09-02         f     NaN\n",
       "4      12147973  2017-09-01         f     NaN\n",
       "..          ...         ...       ...     ...\n",
       "495     3075044  2017-04-14         t  $75.00\n",
       "496     3075044  2017-04-13         t  $65.00\n",
       "497     3075044  2017-04-12         t  $65.00\n",
       "498     3075044  2017-04-11         t  $65.00\n",
       "499     3075044  2017-04-10         t  $65.00\n",
       "\n",
       "[500 rows x 4 columns]"
      ]
     },
     "execution_count": 20,
     "metadata": {},
     "output_type": "execute_result"
    }
   ],
   "source": [
    "dfCalendar.head(500)"
   ]
  },
  {
   "cell_type": "code",
   "execution_count": 21,
   "id": "aef723ad",
   "metadata": {},
   "outputs": [
    {
     "data": {
      "text/plain": [
       "665853"
      ]
     },
     "execution_count": 21,
     "metadata": {},
     "output_type": "execute_result"
    }
   ],
   "source": [
    "#We will check if na values\n",
    "dfCalendar['price'].isna().sum()"
   ]
  },
  {
   "cell_type": "code",
   "execution_count": 22,
   "id": "5e1b4b5a",
   "metadata": {},
   "outputs": [
    {
     "data": {
      "text/plain": [
       "643037"
      ]
     },
     "execution_count": 22,
     "metadata": {},
     "output_type": "execute_result"
    }
   ],
   "source": [
    "#And no na values\n",
    "dfCalendar['price'].notna().sum()"
   ]
  },
  {
   "cell_type": "code",
   "execution_count": 23,
   "id": "4441897a",
   "metadata": {},
   "outputs": [
    {
     "name": "stdout",
     "output_type": "stream",
     "text": [
      "50.87157820748879 %\n"
     ]
    }
   ],
   "source": [
    "#Lets find how % are the na from our total data\n",
    "print (\n",
    "    ((dfCalendar['price'].isna().sum() * 100) / \n",
    "       (dfCalendar['price'].notna().sum() + dfCalendar['price'].isna().sum())), \"%\"\n",
    ")"
   ]
  },
  {
   "cell_type": "code",
   "execution_count": 24,
   "id": "5571df09",
   "metadata": {},
   "outputs": [],
   "source": [
    "#So now we know that we don't include more that 50% of our data - or 50% of space are not available"
   ]
  },
  {
   "cell_type": "code",
   "execution_count": 25,
   "id": "084c2bb0",
   "metadata": {},
   "outputs": [],
   "source": [
    "calendarPrices = dfCalendar['price'].dropna()"
   ]
  },
  {
   "cell_type": "code",
   "execution_count": 26,
   "id": "2679d572",
   "metadata": {},
   "outputs": [
    {
     "data": {
      "text/plain": [
       "365    $65.00\n",
       "366    $65.00\n",
       "367    $65.00\n",
       "368    $75.00\n",
       "369    $75.00\n",
       "370    $65.00\n",
       "371    $65.00\n",
       "372    $65.00\n",
       "373    $65.00\n",
       "374    $65.00\n",
       "Name: price, dtype: object"
      ]
     },
     "execution_count": 26,
     "metadata": {},
     "output_type": "execute_result"
    }
   ],
   "source": [
    "calendarPrices.head(10)"
   ]
  },
  {
   "cell_type": "code",
   "execution_count": 27,
   "id": "5dcae642",
   "metadata": {},
   "outputs": [],
   "source": [
    "#Data type is obj so we will remove the $ sign and we will convert values as dollars"
   ]
  },
  {
   "cell_type": "code",
   "execution_count": 28,
   "id": "a061f995",
   "metadata": {},
   "outputs": [],
   "source": [
    "# Remove dollar signs and convert 'price' column to numeric\n",
    "calendarPrices = calendarPrices.replace('[\\$,]', '', regex=True).astype(float).values"
   ]
  },
  {
   "cell_type": "code",
   "execution_count": 29,
   "id": "a90fa5cf",
   "metadata": {},
   "outputs": [
    {
     "name": "stdout",
     "output_type": "stream",
     "text": [
      "Average Price: 198.44\n",
      "Median Price : 150.0\n",
      "Standard Deviation: 180.14\n",
      "Minimum Price: 11.0\n",
      "Maximum Price: 7163.0\n"
     ]
    }
   ],
   "source": [
    "# Calculate statistics\n",
    "avg_priceC = np.mean(calendarPrices)\n",
    "median_priceC = np.median(calendarPrices)\n",
    "std_dev_priceC = np.std(calendarPrices)\n",
    "min_priceC = np.min(calendarPrices)\n",
    "max_priceC = np.max(calendarPrices)\n",
    "\n",
    "# Print the calculated statistics\n",
    "print(f\"Average Price: {avg_priceC:.2f}\")\n",
    "print(f\"Median Price : {median_priceC}\")\n",
    "print(f\"Standard Deviation: {std_dev_priceC:.2f}\")\n",
    "print(f\"Minimum Price: {min_priceC}\")\n",
    "print(f\"Maximum Price: {max_priceC}\")"
   ]
  },
  {
   "cell_type": "code",
   "execution_count": 30,
   "id": "909fe6b7",
   "metadata": {},
   "outputs": [
    {
     "data": {
      "image/png": "[encoded data removed]",
      "text/plain": [
       "<Figure size 432x288 with 1 Axes>"
      ]
     },
     "metadata": {
      "needs_background": "light"
     },
     "output_type": "display_data"
    }
   ],
   "source": [
    "plt.hist(calendarPrices, bins=30, edgecolor='black')  # Adjust bins as per your data distribution\n",
    "plt.show() "
   ]
  },
  {
   "cell_type": "code",
   "execution_count": 32,
   "id": "e5c313ca",
   "metadata": {},
   "outputs": [],
   "source": [
    "#Question 3 | Investigate the cities that are available"
   ]
  },
  {
   "cell_type": "code",
   "execution_count": 33,
   "id": "253eca2c",
   "metadata": {},
   "outputs": [
    {
     "name": "stdout",
     "output_type": "stream",
     "text": [
      "['Boston' 'Roslindale' 'Roslindale, Boston' 'Jamaica Plain' 'Brookline'\n",
      " 'Jamaica Plain, Boston' 'Jamaica Plain (Boston)' 'Roxbury Crossing'\n",
      " 'Jamaica Plain ' 'Jamaica Plain, MA' 'Boston (Jamaica Plain)'\n",
      " 'Jamaica plain ' 'ROXBURY CROSSING' 'Mission Hill, Boston' 'boston' '波士顿'\n",
      " 'Boston, Massachusetts, US' 'South End, Boston' 'Cambridge' 'East Boston'\n",
      " 'east Boston ' 'Charlestown' 'Boston (Charlestown)' 'Somerville'\n",
      " 'Watertown' 'Brighton' 'Brighton ' 'Boston ' nan 'West Roxbury' 'Newton'\n",
      " 'Hyde Park' 'Mattapan' 'Milton' 'Dorchester' 'dorchester, boston '\n",
      " 'South Boston' 'Allston' 'ALLSTON']\n"
     ]
    }
   ],
   "source": [
    "unique_cities = dfListings['city'].unique()\n",
    "\n",
    "# Print all unique cities\n",
    "\n",
    "print(unique_cities)"
   ]
  },
  {
   "cell_type": "code",
   "execution_count": 34,
   "id": "111a6322",
   "metadata": {},
   "outputs": [
    {
     "data": {
      "text/plain": [
       "2"
      ]
     },
     "execution_count": 34,
     "metadata": {},
     "output_type": "execute_result"
    }
   ],
   "source": [
    "#We will check if na values (we can see them but lets make it sure)\n",
    "dfListings['city'].isna().sum()"
   ]
  },
  {
   "cell_type": "code",
   "execution_count": 35,
   "id": "46e565b4",
   "metadata": {},
   "outputs": [
    {
     "data": {
      "text/plain": [
       "3583"
      ]
     },
     "execution_count": 35,
     "metadata": {},
     "output_type": "execute_result"
    }
   ],
   "source": [
    "#And no na values\n",
    "dfListings['city'].notna().sum()"
   ]
  },
  {
   "cell_type": "code",
   "execution_count": 36,
   "id": "ff1a19fc",
   "metadata": {},
   "outputs": [
    {
     "name": "stdout",
     "output_type": "stream",
     "text": [
      "0.05578800557880056 %\n"
     ]
    }
   ],
   "source": [
    "#Lets find how % are the na from our total data\n",
    "print (\n",
    "    ((dfListings['city'].isna().sum() * 100) / \n",
    "       (dfListings['city'].notna().sum() + dfListings['city'].isna().sum())), \"%\"\n",
    ")"
   ]
  },
  {
   "cell_type": "code",
   "execution_count": 37,
   "id": "f47045a1",
   "metadata": {},
   "outputs": [],
   "source": [
    "#So now we know that we don't include more that 0.05% of our data, so we can continue"
   ]
  },
  {
   "cell_type": "code",
   "execution_count": 38,
   "id": "9f3340ae",
   "metadata": {},
   "outputs": [],
   "source": [
    "cities = dfListings['city'].dropna().tolist()"
   ]
  },
  {
   "cell_type": "code",
   "execution_count": 39,
   "id": "37be7e28",
   "metadata": {},
   "outputs": [
    {
     "name": "stderr",
     "output_type": "stream",
     "text": [
      "/var/folders/v5/w_f4h47d4rq122t8jytl0_xh0000gn/T/ipykernel_23491/257555768.py:12: UserWarning: Glyph 27874 (\\N{CJK UNIFIED IDEOGRAPH-6CE2}) missing from current font.\n",
      "  plt.tight_layout()\n",
      "/var/folders/v5/w_f4h47d4rq122t8jytl0_xh0000gn/T/ipykernel_23491/257555768.py:12: UserWarning: Glyph 22763 (\\N{CJK UNIFIED IDEOGRAPH-58EB}) missing from current font.\n",
      "  plt.tight_layout()\n",
      "/var/folders/v5/w_f4h47d4rq122t8jytl0_xh0000gn/T/ipykernel_23491/257555768.py:12: UserWarning: Glyph 39039 (\\N{CJK UNIFIED IDEOGRAPH-987F}) missing from current font.\n",
      "  plt.tight_layout()\n",
      "/opt/anaconda3/lib/python3.9/site-packages/IPython/core/pylabtools.py:151: UserWarning: Glyph 27874 (\\N{CJK UNIFIED IDEOGRAPH-6CE2}) missing from current font.\n",
      "  fig.canvas.print_figure(bytes_io, **kw)\n",
      "/opt/anaconda3/lib/python3.9/site-packages/IPython/core/pylabtools.py:151: UserWarning: Glyph 22763 (\\N{CJK UNIFIED IDEOGRAPH-58EB}) missing from current font.\n",
      "  fig.canvas.print_figure(bytes_io, **kw)\n",
      "/opt/anaconda3/lib/python3.9/site-packages/IPython/core/pylabtools.py:151: UserWarning: Glyph 39039 (\\N{CJK UNIFIED IDEOGRAPH-987F}) missing from current font.\n",
      "  fig.canvas.print_figure(bytes_io, **kw)\n"
     ]
    },
    {
     "data": {
      "image/png": "[encoded data removed]",
      "text/plain": [
       "<Figure size 864x576 with 1 Axes>"
      ]
     },
     "metadata": {
      "needs_background": "light"
     },
     "output_type": "display_data"
    }
   ],
   "source": [
    "# Count the frequency of each city\n",
    "city_counts = pd.Series(cities).value_counts()\n",
    "\n",
    "# Plot the data\n",
    "\n",
    "plt.figure(figsize=(12, 8))\n",
    "city_counts.plot(kind='bar', color='skyblue')\n",
    "plt.title('Frequency of Cities')\n",
    "plt.xlabel('City')\n",
    "plt.ylabel('Frequency')\n",
    "plt.xticks(rotation=90) \n",
    "plt.tight_layout()  "
   ]
  },
  {
   "cell_type": "code",
   "execution_count": 41,
   "id": "612fcd9f",
   "metadata": {},
   "outputs": [],
   "source": [
    "# Show the plot\n",
    "plt.show()"
   ]
  },
  {
   "cell_type": "code",
   "execution_count": 42,
   "id": "6b9ecee3",
   "metadata": {},
   "outputs": [],
   "source": [
    "#We can see that we have issues with chinese characters but we can skip it for now.\n",
    "#It is necessery to handle duplicate values as:\n",
    "\n",
    "#'Jamaica Plain, Boston' 'Jamaica Plain (Boston)' 'Roxbury Crossing'\n",
    "#'Jamaica Plain ' 'Jamaica Plain, MA' 'Boston (Jamaica Plain)'\n",
    "#'Jamaica plain ' 'ROXBURY CROSSING'"
   ]
  }
 ],
 "metadata": {
  "kernelspec": {
   "display_name": "Python 3 (ipykernel)",
   "language": "python",
   "name": "python3"
  },
  "language_info": {
   "codemirror_mode": {
    "name": "ipython",
    "version": 3
   },
   "file_extension": ".py",
   "mimetype": "text/x-python",
   "name": "python",
   "nbconvert_exporter": "python",
   "pygments_lexer": "ipython3",
   "version": "3.9.12"
  }
 },
 "nbformat": 4,
 "nbformat_minor": 5
}
